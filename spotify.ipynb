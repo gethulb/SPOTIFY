{
 "cells": [
  {
   "cell_type": "markdown",
   "id": "260b8cda-7633-4946-bd08-588dec5e6d78",
   "metadata": {
    "editable": true,
    "slideshow": {
     "slide_type": ""
    },
    "tags": []
   },
   "source": [
    "# Project: Million Playlist Dataset\n",
    "## Spotify\n"
   ]
  },
  {
   "cell_type": "markdown",
   "id": "9bde6c05-efb8-4d24-b11f-97e4181f6964",
   "metadata": {},
   "source": [
    "1. Present your approach to handling this big dataset. Given that the dataset is big, at about 35 GB,\n",
    "you are not expected to be able to process all of it. Ideally, of course, you should have a solution\n",
    "that scales to the whole dataset. Describe the approach you took and all the alternatives you\n",
    "considered."
   ]
  },
  {
   "cell_type": "markdown",
   "id": "8d003bb4-f8d3-44f2-bc42-710cfbc47a4f",
   "metadata": {},
   "source": [
    "## A.Random selection\n",
    "Randomly, we could pick a sample of playlists.\n",
    "### Simple random selection\n",
    "1st, a random selection on the 1000 playlists groups.\n",
    "### Double random selection\n",
    "2nd, a random selection on the 1000 playlists inside the playlists groups\n",
    "\n",
    "But we could suppose the available playlists groups were already randomly build. Therefore, represent already a representative sample.\n",
    "This assumption saves a loop.\n",
    "\n",
    "## B.Stratified selection\n",
    "Another option would be to build a stratified sample, based on the playlists content, but it supposes the 1 million playlists have been crossed through once.\n",
    "Then, to create a list recording the 1 million playlists names. Based on that, we could group playlists by types, and produce some stats to build a stratified selection. \n",
    "\n",
    "## C. Strategy choice\n",
    "\n",
    "We finally chose the 2nd strategy: a stratified sample of the 1 million playlists, data expensive but with SPARK, it should be quite fast...\n",
    "Eventually, facing the awful installation configuration needed to make Spark work on Windows with Jupyter, Python (Pyspark), Java, Hadoop,...\n",
    "We decided to work on DASK"
   ]
  },
  {
   "cell_type": "code",
   "execution_count": 4,
   "id": "d1886f6e-be04-4758-8b30-0e9bd1aad094",
   "metadata": {},
   "outputs": [],
   "source": [
    "import dask\n",
    "import dask.dataframe as dd\n",
    "import dask.bag as db\n",
    "import pandas as pd\n",
    "import numpy as np\n",
    "import json\n",
    "import os\n",
    "import re"
   ]
  },
  {
   "cell_type": "code",
   "execution_count": 5,
   "id": "f598ebc8-b6a6-4b98-b6f7-17da04f9e25b",
   "metadata": {},
   "outputs": [],
   "source": [
    "from pathlib import Path"
   ]
  },
  {
   "cell_type": "code",
   "execution_count": 6,
   "id": "e5367a24-481b-497f-a477-a8c3fe3643a6",
   "metadata": {},
   "outputs": [],
   "source": [
    "folder_single = Path('data_spotify/mpd.slice.0-999.json')\n",
    "folder = Path('data_spotify/')\n",
    "#folder = 'C:/Users/ngoma/data_spotify/mpd.slice.0-999.json'"
   ]
  },
  {
   "cell_type": "code",
   "execution_count": 7,
   "id": "ec8e6b39-e71d-4743-862a-9a0f7d291d1b",
   "metadata": {},
   "outputs": [],
   "source": [
    "def flatten(record):\n",
    "    return {\n",
    "        'zip_slice': record['info']['slice'],\n",
    "        'playlist_name': record['playlist']['name'],\n",
    "        'playlist_number': record['playlist']['pid'],\n",
    "        'playlist_total_tracks': record['playlist']['num_tracks'],\n",
    "        'playlist_total_albums': record['playlist']['num_albums'],\n",
    "        'playlist_tracks': record['playlist']['tracks'],\n",
    "        'playlist_tracks_artist_name':record['playlist']['tracks']['artist_name'],\n",
    "        'playlist_tracks_artist_uri':record['playlist']['tracks']['artist_uri'],\n",
    "        'playlist_tracks_track_name':record['playlist']['tracks']['track_name'],\n",
    "        'playlist_tracks_track_uri':record['playlist']['tracks']['track_uri'],\n",
    "        'playlist_tracks_album_name':record['playlist']['tracks']['album_name'],\n",
    "        'playlist_tracks_album_uri':record['playlist']['tracks']['album_uri']\n",
    "    }\n"
   ]
  },
  {
   "cell_type": "code",
   "execution_count": 8,
   "id": "46e87214-3ed4-46bb-b034-13bf07e0bdf3",
   "metadata": {},
   "outputs": [],
   "source": [
    "loose_playlists = db.read_text(folder_single)"
   ]
  },
  {
   "cell_type": "code",
   "execution_count": 9,
   "id": "46ceee28-810a-4e06-b6ff-675221f3a8a3",
   "metadata": {},
   "outputs": [
    {
     "data": {
      "text/plain": [
       "('{\\n',\n",
       " '    \"info\": {\\n',\n",
       " '        \"generated_on\": \"2017-12-03 08:41:42.057563\", \\n',\n",
       " '        \"slice\": \"0-999\", \\n',\n",
       " '        \"version\": \"v1\"\\n',\n",
       " '    }, \\n',\n",
       " '    \"playlists\": [\\n',\n",
       " '        {\\n',\n",
       " '            \"name\": \"Throwbacks\", \\n',\n",
       " '            \"collaborative\": \"false\", \\n',\n",
       " '            \"pid\": 0, \\n',\n",
       " '            \"modified_at\": 1493424000, \\n',\n",
       " '            \"num_tracks\": 52, \\n',\n",
       " '            \"num_albums\": 47, \\n',\n",
       " '            \"num_followers\": 1, \\n',\n",
       " '            \"tracks\": [\\n',\n",
       " '                {\\n',\n",
       " '                    \"pos\": 0, \\n',\n",
       " '                    \"artist_name\": \"Missy Elliott\", \\n',\n",
       " '                    \"track_uri\": \"spotify:track:0UaMYEvWZi0ZqiDOoHU3YI\", \\n')"
      ]
     },
     "execution_count": 9,
     "metadata": {},
     "output_type": "execute_result"
    }
   ],
   "source": [
    "loose_playlists.take(20)"
   ]
  },
  {
   "cell_type": "code",
   "execution_count": 10,
   "id": "af241df8-a693-4a0c-9f5c-a52d45684fb0",
   "metadata": {},
   "outputs": [],
   "source": [
    "#mega_playlist = []"
   ]
  },
  {
   "cell_type": "code",
   "execution_count": 14,
   "id": "cd68b7bd-d637-4745-85da-e23f3195b36c",
   "metadata": {},
   "outputs": [],
   "source": [
    "with open(folder_single,'r') as loose_playlists:\n",
    "     straight_playlists = json.load(loose_playlists)"
   ]
  },
  {
   "cell_type": "code",
   "execution_count": 16,
   "id": "f04755d2-d63f-4e17-8be2-b0fcfb83f6f5",
   "metadata": {},
   "outputs": [
    {
     "data": {
      "text/plain": [
       "\"for kilo_playlist in os.listdir(folder):\\n    playlists_path = [os.path.join(folder,kilo_playlist)]\\n    with open(playlists_path,'r') as loose_playlist:\\n         straight_folder = json.load(loose_playlist)\""
      ]
     },
     "execution_count": 16,
     "metadata": {},
     "output_type": "execute_result"
    }
   ],
   "source": [
    "'''for kilo_playlist in os.listdir(folder):\n",
    "    playlists_path = [os.path.join(folder,kilo_playlist)]\n",
    "    with open(playlists_path,'r') as loose_playlist:\n",
    "         straight_folder = json.load(loose_playlist)'''"
   ]
  },
  {
   "cell_type": "markdown",
   "id": "a430d951-edfb-4345-a43a-27454c131500",
   "metadata": {},
   "source": [
    "illustrations"
   ]
  },
  {
   "cell_type": "code",
   "execution_count": 19,
   "id": "e70ae2c9-5b84-46b9-993d-c7f162d9b213",
   "metadata": {},
   "outputs": [],
   "source": [
    "clefs = straight_playlists.keys()"
   ]
  },
  {
   "cell_type": "code",
   "execution_count": 21,
   "id": "5b901a16-0276-4d64-9a7a-ae211d965755",
   "metadata": {},
   "outputs": [
    {
     "data": {
      "text/plain": [
       "dict_keys(['info', 'playlists'])"
      ]
     },
     "execution_count": 21,
     "metadata": {},
     "output_type": "execute_result"
    }
   ],
   "source": [
    "clefs"
   ]
  },
  {
   "cell_type": "code",
   "execution_count": 23,
   "id": "f162c443-8afe-49a2-8a7f-6eac60c22d3f",
   "metadata": {},
   "outputs": [
    {
     "data": {
      "text/plain": [
       "{'generated_on': '2017-12-03 08:41:42.057563',\n",
       " 'slice': '0-999',\n",
       " 'version': 'v1'}"
      ]
     },
     "execution_count": 23,
     "metadata": {},
     "output_type": "execute_result"
    }
   ],
   "source": [
    "straight_playlists[\"info\"]"
   ]
  },
  {
   "cell_type": "code",
   "execution_count": 25,
   "id": "e733016e-cfa7-4013-a03a-fc4234445647",
   "metadata": {},
   "outputs": [],
   "source": [
    "playlists_dd =dd.from_pandas(pd.json_normalize(straight_playlists, record_path=\"playlists\",meta=\"info\"))"
   ]
  },
  {
   "cell_type": "code",
   "execution_count": 26,
   "id": "3f14856d-b41c-4696-815c-0e9fb8f1801c",
   "metadata": {},
   "outputs": [
    {
     "data": {
      "text/html": [
       "<div>\n",
       "<style scoped>\n",
       "    .dataframe tbody tr th:only-of-type {\n",
       "        vertical-align: middle;\n",
       "    }\n",
       "\n",
       "    .dataframe tbody tr th {\n",
       "        vertical-align: top;\n",
       "    }\n",
       "\n",
       "    .dataframe thead th {\n",
       "        text-align: right;\n",
       "    }\n",
       "</style>\n",
       "<table border=\"1\" class=\"dataframe\">\n",
       "  <thead>\n",
       "    <tr style=\"text-align: right;\">\n",
       "      <th></th>\n",
       "      <th>name</th>\n",
       "      <th>collaborative</th>\n",
       "      <th>pid</th>\n",
       "      <th>modified_at</th>\n",
       "      <th>num_tracks</th>\n",
       "      <th>num_albums</th>\n",
       "      <th>num_followers</th>\n",
       "      <th>tracks</th>\n",
       "      <th>num_edits</th>\n",
       "      <th>duration_ms</th>\n",
       "      <th>num_artists</th>\n",
       "      <th>description</th>\n",
       "      <th>info</th>\n",
       "    </tr>\n",
       "  </thead>\n",
       "  <tbody>\n",
       "    <tr>\n",
       "      <th>0</th>\n",
       "      <td>Throwbacks</td>\n",
       "      <td>false</td>\n",
       "      <td>0</td>\n",
       "      <td>1493424000</td>\n",
       "      <td>52</td>\n",
       "      <td>47</td>\n",
       "      <td>1</td>\n",
       "      <td>[{'pos': 0, 'artist_name': 'Missy Elliott', 't...</td>\n",
       "      <td>6</td>\n",
       "      <td>11532414</td>\n",
       "      <td>37</td>\n",
       "      <td>&lt;NA&gt;</td>\n",
       "      <td>{'generated_on': '2017-12-03 08:41:42.057563',...</td>\n",
       "    </tr>\n",
       "    <tr>\n",
       "      <th>1</th>\n",
       "      <td>Awesome Playlist</td>\n",
       "      <td>false</td>\n",
       "      <td>1</td>\n",
       "      <td>1506556800</td>\n",
       "      <td>39</td>\n",
       "      <td>23</td>\n",
       "      <td>1</td>\n",
       "      <td>[{'pos': 0, 'artist_name': 'Survivor', 'track_...</td>\n",
       "      <td>5</td>\n",
       "      <td>11656470</td>\n",
       "      <td>21</td>\n",
       "      <td>&lt;NA&gt;</td>\n",
       "      <td>{'generated_on': '2017-12-03 08:41:42.057563',...</td>\n",
       "    </tr>\n",
       "    <tr>\n",
       "      <th>2</th>\n",
       "      <td>korean</td>\n",
       "      <td>false</td>\n",
       "      <td>2</td>\n",
       "      <td>1505692800</td>\n",
       "      <td>64</td>\n",
       "      <td>51</td>\n",
       "      <td>1</td>\n",
       "      <td>[{'pos': 0, 'artist_name': 'Hoody', 'track_uri...</td>\n",
       "      <td>18</td>\n",
       "      <td>14039958</td>\n",
       "      <td>31</td>\n",
       "      <td>&lt;NA&gt;</td>\n",
       "      <td>{'generated_on': '2017-12-03 08:41:42.057563',...</td>\n",
       "    </tr>\n",
       "    <tr>\n",
       "      <th>3</th>\n",
       "      <td>mat</td>\n",
       "      <td>false</td>\n",
       "      <td>3</td>\n",
       "      <td>1501027200</td>\n",
       "      <td>126</td>\n",
       "      <td>107</td>\n",
       "      <td>1</td>\n",
       "      <td>[{'pos': 0, 'artist_name': 'Camille Saint-Saën...</td>\n",
       "      <td>4</td>\n",
       "      <td>28926058</td>\n",
       "      <td>86</td>\n",
       "      <td>&lt;NA&gt;</td>\n",
       "      <td>{'generated_on': '2017-12-03 08:41:42.057563',...</td>\n",
       "    </tr>\n",
       "    <tr>\n",
       "      <th>4</th>\n",
       "      <td>90s</td>\n",
       "      <td>false</td>\n",
       "      <td>4</td>\n",
       "      <td>1401667200</td>\n",
       "      <td>17</td>\n",
       "      <td>16</td>\n",
       "      <td>2</td>\n",
       "      <td>[{'pos': 0, 'artist_name': 'The Smashing Pumpk...</td>\n",
       "      <td>7</td>\n",
       "      <td>4335282</td>\n",
       "      <td>16</td>\n",
       "      <td>&lt;NA&gt;</td>\n",
       "      <td>{'generated_on': '2017-12-03 08:41:42.057563',...</td>\n",
       "    </tr>\n",
       "    <tr>\n",
       "      <th>5</th>\n",
       "      <td>Wedding</td>\n",
       "      <td>false</td>\n",
       "      <td>5</td>\n",
       "      <td>1430956800</td>\n",
       "      <td>80</td>\n",
       "      <td>71</td>\n",
       "      <td>1</td>\n",
       "      <td>[{'pos': 0, 'artist_name': 'Cali Swag District...</td>\n",
       "      <td>3</td>\n",
       "      <td>19156557</td>\n",
       "      <td>56</td>\n",
       "      <td>&lt;NA&gt;</td>\n",
       "      <td>{'generated_on': '2017-12-03 08:41:42.057563',...</td>\n",
       "    </tr>\n",
       "  </tbody>\n",
       "</table>\n",
       "</div>"
      ],
      "text/plain": [
       "               name collaborative  pid  modified_at  num_tracks  num_albums  \\\n",
       "0        Throwbacks         false    0   1493424000          52          47   \n",
       "1  Awesome Playlist         false    1   1506556800          39          23   \n",
       "2           korean          false    2   1505692800          64          51   \n",
       "3               mat         false    3   1501027200         126         107   \n",
       "4               90s         false    4   1401667200          17          16   \n",
       "5           Wedding         false    5   1430956800          80          71   \n",
       "\n",
       "   num_followers                                             tracks  \\\n",
       "0              1  [{'pos': 0, 'artist_name': 'Missy Elliott', 't...   \n",
       "1              1  [{'pos': 0, 'artist_name': 'Survivor', 'track_...   \n",
       "2              1  [{'pos': 0, 'artist_name': 'Hoody', 'track_uri...   \n",
       "3              1  [{'pos': 0, 'artist_name': 'Camille Saint-Saën...   \n",
       "4              2  [{'pos': 0, 'artist_name': 'The Smashing Pumpk...   \n",
       "5              1  [{'pos': 0, 'artist_name': 'Cali Swag District...   \n",
       "\n",
       "   num_edits  duration_ms  num_artists description  \\\n",
       "0          6     11532414           37        <NA>   \n",
       "1          5     11656470           21        <NA>   \n",
       "2         18     14039958           31        <NA>   \n",
       "3          4     28926058           86        <NA>   \n",
       "4          7      4335282           16        <NA>   \n",
       "5          3     19156557           56        <NA>   \n",
       "\n",
       "                                                info  \n",
       "0  {'generated_on': '2017-12-03 08:41:42.057563',...  \n",
       "1  {'generated_on': '2017-12-03 08:41:42.057563',...  \n",
       "2  {'generated_on': '2017-12-03 08:41:42.057563',...  \n",
       "3  {'generated_on': '2017-12-03 08:41:42.057563',...  \n",
       "4  {'generated_on': '2017-12-03 08:41:42.057563',...  \n",
       "5  {'generated_on': '2017-12-03 08:41:42.057563',...  "
      ]
     },
     "execution_count": 26,
     "metadata": {},
     "output_type": "execute_result"
    }
   ],
   "source": [
    "playlists_dd.head(6)"
   ]
  },
  {
   "cell_type": "markdown",
   "id": "92a18a53-230c-430d-864d-480d3a9e1504",
   "metadata": {},
   "source": [
    "still have to flatten the tracks field"
   ]
  },
  {
   "cell_type": "code",
   "execution_count": 30,
   "id": "2112cc3d-7742-475b-809c-276d60671612",
   "metadata": {},
   "outputs": [],
   "source": [
    "key_info = [\"info\",[\"playlists\",\"pid\"],[\"playlists\",\"name\"],[\"playlists\",\"num_tracks\"],[\"playlists\",\"num_albums\"],[\"playlists\",\"num_artists\"]]"
   ]
  },
  {
   "cell_type": "code",
   "execution_count": 32,
   "id": "e2ce0e63-b65f-44f1-a2e0-fb5630acc6e3",
   "metadata": {},
   "outputs": [],
   "source": [
    "playlists_dd = dd.from_pandas(pd.json_normalize(straight_playlists, record_path=[\"playlists\",\"tracks\"],meta=key_info))"
   ]
  },
  {
   "cell_type": "code",
   "execution_count": 33,
   "id": "85ce3a27-6a92-4732-9fa0-045c013c446c",
   "metadata": {},
   "outputs": [
    {
     "data": {
      "text/html": [
       "<div>\n",
       "<style scoped>\n",
       "    .dataframe tbody tr th:only-of-type {\n",
       "        vertical-align: middle;\n",
       "    }\n",
       "\n",
       "    .dataframe tbody tr th {\n",
       "        vertical-align: top;\n",
       "    }\n",
       "\n",
       "    .dataframe thead th {\n",
       "        text-align: right;\n",
       "    }\n",
       "</style>\n",
       "<table border=\"1\" class=\"dataframe\">\n",
       "  <thead>\n",
       "    <tr style=\"text-align: right;\">\n",
       "      <th></th>\n",
       "      <th>pos</th>\n",
       "      <th>artist_name</th>\n",
       "      <th>track_uri</th>\n",
       "      <th>artist_uri</th>\n",
       "      <th>track_name</th>\n",
       "      <th>album_uri</th>\n",
       "      <th>duration_ms</th>\n",
       "      <th>album_name</th>\n",
       "      <th>info</th>\n",
       "      <th>playlists.pid</th>\n",
       "      <th>playlists.name</th>\n",
       "      <th>playlists.num_tracks</th>\n",
       "      <th>playlists.num_albums</th>\n",
       "      <th>playlists.num_artists</th>\n",
       "    </tr>\n",
       "  </thead>\n",
       "  <tbody>\n",
       "    <tr>\n",
       "      <th>0</th>\n",
       "      <td>0</td>\n",
       "      <td>Missy Elliott</td>\n",
       "      <td>spotify:track:0UaMYEvWZi0ZqiDOoHU3YI</td>\n",
       "      <td>spotify:artist:2wIVse2owClT7go1WT98tk</td>\n",
       "      <td>Lose Control (feat. Ciara &amp; Fat Man Scoop)</td>\n",
       "      <td>spotify:album:6vV5UrXcfyQD1wu4Qo2I9K</td>\n",
       "      <td>226863</td>\n",
       "      <td>The Cookbook</td>\n",
       "      <td>{'generated_on': '2017-12-03 08:41:42.057563',...</td>\n",
       "      <td>0</td>\n",
       "      <td>Throwbacks</td>\n",
       "      <td>52</td>\n",
       "      <td>47</td>\n",
       "      <td>37</td>\n",
       "    </tr>\n",
       "    <tr>\n",
       "      <th>1</th>\n",
       "      <td>1</td>\n",
       "      <td>Britney Spears</td>\n",
       "      <td>spotify:track:6I9VzXrHxO9rA9A5euc8Ak</td>\n",
       "      <td>spotify:artist:26dSoYclwsYLMAKD3tpOr4</td>\n",
       "      <td>Toxic</td>\n",
       "      <td>spotify:album:0z7pVBGOD7HCIB7S8eLkLI</td>\n",
       "      <td>198800</td>\n",
       "      <td>In The Zone</td>\n",
       "      <td>{'generated_on': '2017-12-03 08:41:42.057563',...</td>\n",
       "      <td>0</td>\n",
       "      <td>Throwbacks</td>\n",
       "      <td>52</td>\n",
       "      <td>47</td>\n",
       "      <td>37</td>\n",
       "    </tr>\n",
       "    <tr>\n",
       "      <th>2</th>\n",
       "      <td>2</td>\n",
       "      <td>Beyoncé</td>\n",
       "      <td>spotify:track:0WqIKmW4BTrj3eJFmnCKMv</td>\n",
       "      <td>spotify:artist:6vWDO969PvNqNYHIOW5v0m</td>\n",
       "      <td>Crazy In Love</td>\n",
       "      <td>spotify:album:25hVFAxTlDvXbx2X2QkUkE</td>\n",
       "      <td>235933</td>\n",
       "      <td>Dangerously In Love (Alben für die Ewigkeit)</td>\n",
       "      <td>{'generated_on': '2017-12-03 08:41:42.057563',...</td>\n",
       "      <td>0</td>\n",
       "      <td>Throwbacks</td>\n",
       "      <td>52</td>\n",
       "      <td>47</td>\n",
       "      <td>37</td>\n",
       "    </tr>\n",
       "    <tr>\n",
       "      <th>3</th>\n",
       "      <td>3</td>\n",
       "      <td>Justin Timberlake</td>\n",
       "      <td>spotify:track:1AWQoqb9bSvzTjaLralEkT</td>\n",
       "      <td>spotify:artist:31TPClRtHm23RisEBtV3X7</td>\n",
       "      <td>Rock Your Body</td>\n",
       "      <td>spotify:album:6QPkyl04rXwTGlGlcYaRoW</td>\n",
       "      <td>267266</td>\n",
       "      <td>Justified</td>\n",
       "      <td>{'generated_on': '2017-12-03 08:41:42.057563',...</td>\n",
       "      <td>0</td>\n",
       "      <td>Throwbacks</td>\n",
       "      <td>52</td>\n",
       "      <td>47</td>\n",
       "      <td>37</td>\n",
       "    </tr>\n",
       "  </tbody>\n",
       "</table>\n",
       "</div>"
      ],
      "text/plain": [
       "   pos        artist_name                             track_uri  \\\n",
       "0    0      Missy Elliott  spotify:track:0UaMYEvWZi0ZqiDOoHU3YI   \n",
       "1    1     Britney Spears  spotify:track:6I9VzXrHxO9rA9A5euc8Ak   \n",
       "2    2            Beyoncé  spotify:track:0WqIKmW4BTrj3eJFmnCKMv   \n",
       "3    3  Justin Timberlake  spotify:track:1AWQoqb9bSvzTjaLralEkT   \n",
       "\n",
       "                              artist_uri  \\\n",
       "0  spotify:artist:2wIVse2owClT7go1WT98tk   \n",
       "1  spotify:artist:26dSoYclwsYLMAKD3tpOr4   \n",
       "2  spotify:artist:6vWDO969PvNqNYHIOW5v0m   \n",
       "3  spotify:artist:31TPClRtHm23RisEBtV3X7   \n",
       "\n",
       "                                   track_name  \\\n",
       "0  Lose Control (feat. Ciara & Fat Man Scoop)   \n",
       "1                                       Toxic   \n",
       "2                               Crazy In Love   \n",
       "3                              Rock Your Body   \n",
       "\n",
       "                              album_uri  duration_ms  \\\n",
       "0  spotify:album:6vV5UrXcfyQD1wu4Qo2I9K       226863   \n",
       "1  spotify:album:0z7pVBGOD7HCIB7S8eLkLI       198800   \n",
       "2  spotify:album:25hVFAxTlDvXbx2X2QkUkE       235933   \n",
       "3  spotify:album:6QPkyl04rXwTGlGlcYaRoW       267266   \n",
       "\n",
       "                                     album_name  \\\n",
       "0                                  The Cookbook   \n",
       "1                                   In The Zone   \n",
       "2  Dangerously In Love (Alben für die Ewigkeit)   \n",
       "3                                     Justified   \n",
       "\n",
       "                                                info playlists.pid  \\\n",
       "0  {'generated_on': '2017-12-03 08:41:42.057563',...             0   \n",
       "1  {'generated_on': '2017-12-03 08:41:42.057563',...             0   \n",
       "2  {'generated_on': '2017-12-03 08:41:42.057563',...             0   \n",
       "3  {'generated_on': '2017-12-03 08:41:42.057563',...             0   \n",
       "\n",
       "  playlists.name playlists.num_tracks playlists.num_albums  \\\n",
       "0     Throwbacks                   52                   47   \n",
       "1     Throwbacks                   52                   47   \n",
       "2     Throwbacks                   52                   47   \n",
       "3     Throwbacks                   52                   47   \n",
       "\n",
       "  playlists.num_artists  \n",
       "0                    37  \n",
       "1                    37  \n",
       "2                    37  \n",
       "3                    37  "
      ]
     },
     "execution_count": 33,
     "metadata": {},
     "output_type": "execute_result"
    }
   ],
   "source": [
    "playlists_dd.head(4)"
   ]
  },
  {
   "cell_type": "code",
   "execution_count": null,
   "id": "4f300dac-df46-4055-8168-6e1b00f405a9",
   "metadata": {},
   "outputs": [],
   "source": []
  },
  {
   "cell_type": "code",
   "execution_count": null,
   "id": "7f13eebf-1c03-4cf1-a78b-a4177938d952",
   "metadata": {},
   "outputs": [],
   "source": []
  },
  {
   "cell_type": "code",
   "execution_count": null,
   "id": "799b1ec6-463a-482e-adf2-b6ffae89f2ed",
   "metadata": {},
   "outputs": [],
   "source": []
  }
 ],
 "metadata": {
  "kernelspec": {
   "display_name": "Python 3 (ipykernel)",
   "language": "python",
   "name": "python3"
  },
  "language_info": {
   "codemirror_mode": {
    "name": "ipython",
    "version": 3
   },
   "file_extension": ".py",
   "mimetype": "text/x-python",
   "name": "python",
   "nbconvert_exporter": "python",
   "pygments_lexer": "ipython3",
   "version": "3.12.7"
  }
 },
 "nbformat": 4,
 "nbformat_minor": 5
}
